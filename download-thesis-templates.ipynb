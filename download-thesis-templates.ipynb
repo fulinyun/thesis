{
 "metadata": {
  "name": "",
  "signature": "sha256:cae63d53bb26cac818e32fbb8c181a926b3cf2767f6d7ff27094802683d73f51"
 },
 "nbformat": 3,
 "nbformat_minor": 0,
 "worksheets": [
  {
   "cells": [
    {
     "cell_type": "heading",
     "level": 1,
     "metadata": {},
     "source": [
      "Download the style file."
     ]
    },
    {
     "cell_type": "code",
     "collapsed": false,
     "input": [
      "!wget http://www.rpi.edu/dept/arc/docs/latex-thesis/thesis.cls"
     ],
     "language": "python",
     "metadata": {},
     "outputs": [
      {
       "output_type": "stream",
       "stream": "stderr",
       "text": [
        "SYSTEM_WGETRC = c:/progra~1/wget/etc/wgetrc\n",
        "syswgetrc = D:\\Programs\\GnuWin32/etc/wgetrc\n",
        "--2014-07-14 20:41:47--  http://www.rpi.edu/dept/arc/docs/latex-thesis/thesis.cls\n",
        "\u6b63\u5728\u89e3\u6790\u4e3b\u673a www.rpi.edu... 128.113.2.68, 128.113.26.112, 2620:0:2820:b0::68, ...\n",
        "Connecting to www.rpi.edu|128.113.2.68|:80... \u5df2\u8fde\u63a5\u3002\n",
        "\u5df2\u53d1\u51fa HTTP \u8bf7\u6c42\uff0c\u6b63\u5728\u7b49\u5f85\u56de\u5e94... 200 OK\n",
        "\u957f\u5ea6\uff1a23873 (23K) [text/plain]\n",
        "Saving to: `thesis.cls'\n",
        "\n",
        "     0K .......... .......... ...                             100% 23.9M=0.001s\n",
        "\n",
        "2014-07-14 20:41:48 (23.9 MB/s) - `thesis.cls' saved [23873/23873]\n",
        "\n"
       ]
      }
     ],
     "prompt_number": 2
    },
    {
     "cell_type": "heading",
     "level": 1,
     "metadata": {},
     "source": [
      "Download template files."
     ]
    },
    {
     "cell_type": "code",
     "collapsed": false,
     "input": [
      "!wget http://www.rpi.edu/dept/arc/docs/latex-thesis/rpithes.tex"
     ],
     "language": "python",
     "metadata": {},
     "outputs": [
      {
       "output_type": "stream",
       "stream": "stderr",
       "text": [
        "SYSTEM_WGETRC = c:/progra~1/wget/etc/wgetrc\n",
        "syswgetrc = D:\\Programs\\GnuWin32/etc/wgetrc\n",
        "--2014-07-14 20:48:53--  http://www.rpi.edu/dept/arc/docs/latex-thesis/rpithes.tex\n",
        "\u6b63\u5728\u89e3\u6790\u4e3b\u673a www.rpi.edu... 128.113.2.68, 128.113.26.112, 2620:0:2820:26::112, ...\n",
        "Connecting to www.rpi.edu|128.113.2.68|:80... \u5df2\u8fde\u63a5\u3002\n",
        "\u5df2\u53d1\u51fa HTTP \u8bf7\u6c42\uff0c\u6b63\u5728\u7b49\u5f85\u56de\u5e94... 200 OK\n",
        "\u957f\u5ea6\uff1a1615 (1.6K) [application/x-tex]\n",
        "Saving to: `rpithes.tex'\n",
        "\n",
        "     0K .                                                     100% 13.3M=0s\n",
        "\n",
        "2014-07-14 20:48:54 (13.3 MB/s) - `rpithes.tex' saved [1615/1615]\n",
        "\n"
       ]
      }
     ],
     "prompt_number": 4
    },
    {
     "cell_type": "code",
     "collapsed": false,
     "input": [
      "!wget http://www.rpi.edu/dept/arc/docs/latex-thesis/rpititle-phd.tex"
     ],
     "language": "python",
     "metadata": {},
     "outputs": [
      {
       "output_type": "stream",
       "stream": "stderr",
       "text": [
        "SYSTEM_WGETRC = c:/progra~1/wget/etc/wgetrc\n",
        "syswgetrc = D:\\Programs\\GnuWin32/etc/wgetrc\n",
        "--2014-07-14 20:46:46--  http://www.rpi.edu/dept/arc/docs/latex-thesis/rpititle-phd.tex\n",
        "\u6b63\u5728\u89e3\u6790\u4e3b\u673a www.rpi.edu... 128.113.26.112, 128.113.2.68, 2620:0:2820:b0::68, ...\n",
        "Connecting to www.rpi.edu|128.113.26.112|:80... \u5df2\u8fde\u63a5\u3002\n",
        "\u5df2\u53d1\u51fa HTTP \u8bf7\u6c42\uff0c\u6b63\u5728\u7b49\u5f85\u56de\u5e94... 200 OK\n",
        "\u957f\u5ea6\uff1a1983 (1.9K) [application/x-tex]\n",
        "Saving to: `rpititle-phd.tex'\n",
        "\n",
        "     0K .                                                     100% 16.2M=0s\n",
        "\n",
        "2014-07-14 20:46:48 (16.2 MB/s) - `rpititle-phd.tex' saved [1983/1983]\n",
        "\n"
       ]
      }
     ],
     "prompt_number": 3
    },
    {
     "cell_type": "code",
     "collapsed": false,
     "input": [
      "!wget http://www.rpi.edu/dept/arc/docs/latex-thesis/rpiack.tex"
     ],
     "language": "python",
     "metadata": {},
     "outputs": [
      {
       "output_type": "stream",
       "stream": "stderr",
       "text": [
        "SYSTEM_WGETRC = c:/progra~1/wget/etc/wgetrc\n",
        "syswgetrc = D:\\Programs\\GnuWin32/etc/wgetrc\n",
        "--2014-07-14 20:49:34--  http://www.rpi.edu/dept/arc/docs/latex-thesis/rpiack.tex\n",
        "\u6b63\u5728\u89e3\u6790\u4e3b\u673a www.rpi.edu... 128.113.2.68, 128.113.26.112, 2620:0:2820:26::112, ...\n",
        "Connecting to www.rpi.edu|128.113.2.68|:80... \u5df2\u8fde\u63a5\u3002\n",
        "\u5df2\u53d1\u51fa HTTP \u8bf7\u6c42\uff0c\u6b63\u5728\u7b49\u5f85\u56de\u5e94... 200 OK\n",
        "\u957f\u5ea6\uff1a1563 (1.5K) [application/x-tex]\n",
        "Saving to: `rpiack.tex'\n",
        "\n",
        "     0K .                                                     100% 19.1M=0s\n",
        "\n",
        "2014-07-14 20:49:35 (19.1 MB/s) - `rpiack.tex' saved [1563/1563]\n",
        "\n"
       ]
      }
     ],
     "prompt_number": 5
    },
    {
     "cell_type": "code",
     "collapsed": false,
     "input": [
      "!wget http://www.rpi.edu/dept/arc/docs/latex-thesis/rpiabs.tex"
     ],
     "language": "python",
     "metadata": {},
     "outputs": [
      {
       "output_type": "stream",
       "stream": "stderr",
       "text": [
        "SYSTEM_WGETRC = c:/progra~1/wget/etc/wgetrc\n",
        "syswgetrc = D:\\Programs\\GnuWin32/etc/wgetrc\n",
        "--2014-07-14 20:50:34--  http://www.rpi.edu/dept/arc/docs/latex-thesis/rpiabs.tex\n",
        "\u6b63\u5728\u89e3\u6790\u4e3b\u673a www.rpi.edu... 128.113.2.68, 128.113.26.112, 2620:0:2820:26::112, ...\n",
        "Connecting to www.rpi.edu|128.113.2.68|:80... \u5df2\u8fde\u63a5\u3002\n",
        "\u5df2\u53d1\u51fa HTTP \u8bf7\u6c42\uff0c\u6b63\u5728\u7b49\u5f85\u56de\u5e94... 200 OK\n",
        "\u957f\u5ea6\uff1a1656 (1.6K) [application/x-tex]\n",
        "Saving to: `rpiabs.tex'\n",
        "\n",
        "     0K .                                                     100% 13.0M=0s\n",
        "\n",
        "2014-07-14 20:50:35 (13.0 MB/s) - `rpiabs.tex' saved [1656/1656]\n",
        "\n"
       ]
      }
     ],
     "prompt_number": 6
    },
    {
     "cell_type": "code",
     "collapsed": false,
     "input": [
      "!wget http://www.rpi.edu/dept/arc/docs/latex-thesis/rpichap1.tex"
     ],
     "language": "python",
     "metadata": {},
     "outputs": [
      {
       "output_type": "stream",
       "stream": "stderr",
       "text": [
        "SYSTEM_WGETRC = c:/progra~1/wget/etc/wgetrc\n",
        "syswgetrc = D:\\Programs\\GnuWin32/etc/wgetrc\n",
        "--2014-07-14 20:51:08--  http://www.rpi.edu/dept/arc/docs/latex-thesis/rpichap1.tex\n",
        "\u6b63\u5728\u89e3\u6790\u4e3b\u673a www.rpi.edu... 128.113.2.68, 128.113.26.112, 2620:0:2820:26::112, ...\n",
        "Connecting to www.rpi.edu|128.113.2.68|:80... \u5df2\u8fde\u63a5\u3002\n",
        "\u5df2\u53d1\u51fa HTTP \u8bf7\u6c42\uff0c\u6b63\u5728\u7b49\u5f85\u56de\u5e94... 200 OK\n",
        "\u957f\u5ea6\uff1a2606 (2.5K) [application/x-tex]\n",
        "Saving to: `rpichap1.tex'\n",
        "\n",
        "     0K ..                                                    100% 35.6M=0s\n",
        "\n",
        "2014-07-14 20:51:08 (35.6 MB/s) - `rpichap1.tex' saved [2606/2606]\n",
        "\n"
       ]
      }
     ],
     "prompt_number": 7
    },
    {
     "cell_type": "code",
     "collapsed": false,
     "input": [
      "!wget http://www.rpi.edu/dept/arc/docs/latex-thesis/rpichap2.tex"
     ],
     "language": "python",
     "metadata": {},
     "outputs": [
      {
       "output_type": "stream",
       "stream": "stderr",
       "text": [
        "SYSTEM_WGETRC = c:/progra~1/wget/etc/wgetrc\n",
        "syswgetrc = D:\\Programs\\GnuWin32/etc/wgetrc\n",
        "--2014-07-14 20:51:31--  http://www.rpi.edu/dept/arc/docs/latex-thesis/rpichap2.tex\n",
        "\u6b63\u5728\u89e3\u6790\u4e3b\u673a www.rpi.edu... 128.113.2.68, 128.113.26.112, 2620:0:2820:b0::68, ...\n",
        "Connecting to www.rpi.edu|128.113.2.68|:80... \u5df2\u8fde\u63a5\u3002\n",
        "\u5df2\u53d1\u51fa HTTP \u8bf7\u6c42\uff0c\u6b63\u5728\u7b49\u5f85\u56de\u5e94... 200 OK\n",
        "\u957f\u5ea6\uff1a2843 (2.8K) [application/x-tex]\n",
        "Saving to: `rpichap2.tex'\n",
        "\n",
        "     0K ..                                                    100% 40.1M=0s\n",
        "\n",
        "2014-07-14 20:51:31 (40.1 MB/s) - `rpichap2.tex' saved [2843/2843]\n",
        "\n"
       ]
      }
     ],
     "prompt_number": 8
    },
    {
     "cell_type": "code",
     "collapsed": false,
     "input": [
      "!wget http://www.rpi.edu/dept/arc/docs/latex-thesis/rpibib.tex"
     ],
     "language": "python",
     "metadata": {},
     "outputs": [
      {
       "output_type": "stream",
       "stream": "stderr",
       "text": [
        "SYSTEM_WGETRC = c:/progra~1/wget/etc/wgetrc\n",
        "syswgetrc = D:\\Programs\\GnuWin32/etc/wgetrc\n",
        "--2014-07-14 20:51:55--  http://www.rpi.edu/dept/arc/docs/latex-thesis/rpibib.tex\n",
        "\u6b63\u5728\u89e3\u6790\u4e3b\u673a www.rpi.edu... 128.113.2.68, 128.113.26.112, 2620:0:2820:b0::68, ...\n",
        "Connecting to www.rpi.edu|128.113.2.68|:80... \u5df2\u8fde\u63a5\u3002\n",
        "\u5df2\u53d1\u51fa HTTP \u8bf7\u6c42\uff0c\u6b63\u5728\u7b49\u5f85\u56de\u5e94... 200 OK\n",
        "\u957f\u5ea6\uff1a1237 (1.2K) [application/x-tex]\n",
        "Saving to: `rpibib.tex'\n",
        "\n",
        "     0K .                                                     100% 15.2M=0s\n",
        "\n",
        "2014-07-14 20:51:55 (15.2 MB/s) - `rpibib.tex' saved [1237/1237]\n",
        "\n"
       ]
      }
     ],
     "prompt_number": 9
    },
    {
     "cell_type": "code",
     "collapsed": false,
     "input": [
      "!wget http://www.rpi.edu/dept/arc/docs/latex-thesis/rpiapp.tex"
     ],
     "language": "python",
     "metadata": {},
     "outputs": [
      {
       "output_type": "stream",
       "stream": "stderr",
       "text": [
        "SYSTEM_WGETRC = c:/progra~1/wget/etc/wgetrc\n",
        "syswgetrc = D:\\Programs\\GnuWin32/etc/wgetrc\n",
        "--2014-07-14 20:52:09--  http://www.rpi.edu/dept/arc/docs/latex-thesis/rpiapp.tex\n",
        "\u6b63\u5728\u89e3\u6790\u4e3b\u673a www.rpi.edu... 128.113.2.68, 128.113.26.112, 2620:0:2820:26::112, ...\n",
        "Connecting to www.rpi.edu|128.113.2.68|:80... \u5df2\u8fde\u63a5\u3002\n",
        "\u5df2\u53d1\u51fa HTTP \u8bf7\u6c42\uff0c\u6b63\u5728\u7b49\u5f85\u56de\u5e94... 200 OK\n",
        "\u957f\u5ea6\uff1a1904 (1.9K) [application/x-tex]\n",
        "Saving to: `rpiapp.tex'\n",
        "\n",
        "     0K .                                                     100% 24.8M=0s\n",
        "\n",
        "2014-07-14 20:52:09 (24.8 MB/s) - `rpiapp.tex' saved [1904/1904]\n",
        "\n"
       ]
      }
     ],
     "prompt_number": 10
    },
    {
     "cell_type": "heading",
     "level": 1,
     "metadata": {},
     "source": [
      "Compile template files."
     ]
    },
    {
     "cell_type": "code",
     "collapsed": false,
     "input": [
      "!pdflatex rpithes.tex"
     ],
     "language": "python",
     "metadata": {},
     "outputs": [
      {
       "output_type": "stream",
       "stream": "stdout",
       "text": [
        "This is pdfTeX, Version 3.1415926-2.5-1.40.14 (MiKTeX 2.9)\n",
        "entering extended mode\n",
        "(D:\\github\\thesis\\rpithes.tex\n",
        "LaTeX2e <2011/06/27>\n",
        "Babel <v3.8m> and hyphenation patterns for english, afrikaans, ancientgreek, ar\n",
        "abic, armenian, assamese, basque, bengali, bokmal, bulgarian, catalan, coptic, \n",
        "croatian, czech, danish, dutch, esperanto, estonian, farsi, finnish, french, ga\n",
        "lician, german, german-x-2013-05-26, greek, gujarati, hindi, hungarian, iceland\n",
        "ic, indonesian, interlingua, irish, italian, kannada, kurmanji, latin, latvian,\n",
        " lithuanian, malayalam, marathi, mongolian, mongolianlmc, monogreek, ngerman, n\n",
        "german-x-2013-05-26, nynorsk, oriya, panjabi, pinyin, polish, portuguese, roman\n",
        "ian, russian, sanskrit, serbian, slovak, slovenian, spanish, swedish, swissgerm\n",
        "an, tamil, telugu, turkish, turkmen, ukenglish, ukrainian, uppersorbian, usengl\n",
        "ishmax, welsh, loaded.\n",
        "(D:\\github\\thesis\\thesis.cls\n",
        "Document Class: thesis 2009/01/06 Rensselaer Polytechnic Institute\n",
        "(D:\\Programs\\MiKTeX\\tex\\latex\\base\\report.cls\n",
        "Document Class: report 2007/10/19 v1.4h Standard LaTeX document class\n",
        "(D:\\Programs\\MiKTeX\\tex\\latex\\base\\size12.clo)))\n",
        "======================================================================\n",
        "starting package maintenance...\n",
        "installation directory: D:\\Programs\\MiKTeX\n",
        "package repository: http://mirrors.rit.edu/CTAN/systems/win32/miktex/tm/packages/\n",
        "lightweight database digest: 2e1ee451b3ebfd4ef4afc81bbceafc9f\n",
        "going to download 1920706 bytes\n",
        "going to install 21 file(s) (1 package(s))\n",
        "downloading http://mirrors.rit.edu/CTAN/systems/win32/miktex/tm/packages/caption.tar.lzma...\n",
        "1920706 bytes, 1955.88 KB/Sec\n",
        "extracting files from caption.tar.lzma...\n",
        "======================================================================\n",
        "\n",
        "(D:\\Programs\\MiKTeX\\tex\\latex\\caption\\caption.sty\n",
        "(D:\\Programs\\MiKTeX\\tex\\latex\\caption\\caption3.sty\n",
        "(D:\\Programs\\MiKTeX\\tex\\latex\\graphics\\keyval.sty))\n",
        "\n",
        "Package caption Warning: Unsupported document class (or package) detected,\n",
        "(caption)                usage of the caption package is not recommended.\n",
        "See the caption package documentation for explanation.\n",
        "\n",
        ")\n",
        "No file rpithes.aux.\n",
        "(D:\\github\\thesis\\rpititle-phd.tex [1{C:/ProgramData/MiKTeX/2.9/pdftex/config/p\n",
        "dftex.map}] (D:\\Programs\\MiKTeX\\tex\\latex\\base\\omscmr.fd) [2]\n",
        "No file rpithes.toc.\n",
        "[3]\n",
        "No file rpithes.lot.\n",
        "[4]\n",
        "No file rpithes.lof.\n",
        ") [5] (D:\\github\\thesis\\rpiack.tex) [6] (D:\\github\\thesis\\rpiabs.tex) [7]\n",
        "(D:\\github\\thesis\\rpichap1.tex\n",
        "CHAPTER 1.\n",
        "\n",
        "LaTeX Warning: Citation `thisbook' on page 1 undefined on input line 12.\n",
        "\n",
        "\n",
        "LaTeX Warning: Reference `myfig' on page 1 undefined on input line 16.\n",
        "\n",
        "\n",
        "LaTeX Warning: Citation `thisbook' on page 1 undefined on input line 32.\n",
        "\n",
        "\n",
        "LaTeX Warning: Citation `thisbook' on page 1 undefined on input line 32.\n",
        "\n",
        "[1]\n",
        "\n",
        "LaTeX Warning: Citation `anotherbook' on page 2 undefined on input line 56.\n",
        "\n",
        ") [2] (D:\\github\\thesis\\rpichap2.tex\n",
        "CHAPTER 2.\n",
        "\n",
        "LaTeX Warning: Reference `mytable' on page 3 undefined on input line 30.\n",
        "\n",
        "\n",
        "LaTeX Warning: Citation `yetanotherbook' on page 3 undefined on input line 51.\n",
        "\n",
        "[3]) [4] (D:\\github\\thesis\\rpibib.tex) [5] (D:\\github\\thesis\\rpiapp.tex\n",
        "APPENDIX A.\n",
        "[6]\n",
        "APPENDIX B.\n",
        ") [7] (D:\\github\\thesis\\rpithes.aux (D:\\github\\thesis\\rpititle-phd.aux)\n",
        "(D:\\github\\thesis\\rpiack.aux) (D:\\github\\thesis\\rpiabs.aux)\n",
        "(D:\\github\\thesis\\rpichap1.aux) (D:\\github\\thesis\\rpichap2.aux)\n",
        "(D:\\github\\thesis\\rpibib.aux) (D:\\github\\thesis\\rpiapp.aux))\n",
        "\n",
        "LaTeX Warning: There were undefined references.\n",
        "\n",
        "\n",
        "LaTeX Warning: Label(s) may have changed. Rerun to get cross-references right.\n",
        "\n",
        " )<D:/Programs/MiKTeX/fonts/type1/public/amsfonts/cm/cmbx12.pfb><D:/Programs/Mi\n",
        "KTeX/fonts/type1/public/amsfonts/cm/cmmi12.pfb><D:/Programs/MiKTeX/fonts/type1/\n",
        "public/amsfonts/cm/cmr10.pfb><D:/Programs/MiKTeX/fonts/type1/public/amsfonts/cm\n",
        "/cmr12.pfb><D:/Programs/MiKTeX/fonts/type1/public/amsfonts/cm/cmr7.pfb><D:/Prog\n",
        "rams/MiKTeX/fonts/type1/public/amsfonts/cm/cmr8.pfb><D:/Programs/MiKTeX/fonts/t\n",
        "ype1/public/amsfonts/cm/cmsy10.pfb><D:/Programs/MiKTeX/fonts/type1/public/amsfo\n",
        "nts/cm/cmtt12.pfb>\n",
        "Output written on rpithes.pdf (14 pages, 98078 bytes).\n",
        "Transcript written on rpithes.log.\n"
       ]
      }
     ],
     "prompt_number": 11
    },
    {
     "cell_type": "code",
     "collapsed": false,
     "input": [],
     "language": "python",
     "metadata": {},
     "outputs": []
    }
   ],
   "metadata": {}
  }
 ]
}