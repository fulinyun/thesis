{
 "metadata": {
  "name": "",
  "signature": "sha256:e9a1bd5947fcf17b0a50f705ab7b67fa5be2816eebc397e561bd11a8efae8513"
 },
 "nbformat": 3,
 "nbformat_minor": 0,
 "worksheets": [
  {
   "cells": [
    {
     "cell_type": "code",
     "collapsed": false,
     "input": [
      "!wget http://www.rpi.edu/dept/arc/docs/latex-thesis/rpithesis-doc.pdf"
     ],
     "language": "python",
     "metadata": {},
     "outputs": [
      {
       "output_type": "stream",
       "stream": "stderr",
       "text": [
        "SYSTEM_WGETRC = c:/progra~1/wget/etc/wgetrc\n",
        "syswgetrc = D:\\Programs\\GnuWin32/etc/wgetrc\n",
        "--2014-07-18 09:38:24--  http://www.rpi.edu/dept/arc/docs/latex-thesis/rpithesis-doc.pdf\n",
        "\u6b63\u5728\u89e3\u6790\u4e3b\u673a www.rpi.edu... 128.113.2.68, 128.113.26.112, 2620:0:2820:26::112, ...\n",
        "Connecting to www.rpi.edu|128.113.2.68|:80... \u5df2\u8fde\u63a5\u3002\n",
        "\u5df2\u53d1\u51fa HTTP \u8bf7\u6c42\uff0c\u6b63\u5728\u7b49\u5f85\u56de\u5e94... 200 OK\n",
        "\u957f\u5ea6\uff1a260503 (254K) [application/pdf]\n",
        "Saving to: `rpithesis-doc.pdf'\n",
        "\n",
        "     0K .......... .......... .......... .......... .......... 19% 5.50M 0s\n",
        "    50K .......... .......... .......... .......... .......... 39% 5.52M 0s\n",
        "   100K .......... .......... .......... .......... .......... 58% 3.80M 0s\n",
        "   150K .......... .......... .......... .......... .......... 78% 6.41M 0s\n",
        "   200K .......... .......... .......... .......... .......... 98% 7.79M 0s\n",
        "   250K ....                                                  100% 9.58M=0.04s\n",
        "\n",
        "2014-07-18 09:38:25 (5.53 MB/s) - `rpithesis-doc.pdf' saved [260503/260503]\n",
        "\n"
       ]
      }
     ],
     "prompt_number": 1
    },
    {
     "cell_type": "code",
     "collapsed": false,
     "input": [],
     "language": "python",
     "metadata": {},
     "outputs": []
    }
   ],
   "metadata": {}
  }
 ]
}