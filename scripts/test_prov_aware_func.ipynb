{
 "cells": [
  {
   "cell_type": "code",
   "execution_count": 1,
   "metadata": {
    "collapsed": false
   },
   "outputs": [],
   "source": [
    "import sys\n",
    "sys.path.append('prov')\n",
    "import dataloader\n",
    "import datatransformer\n",
    "import operators\n",
    "import provmagic\n",
    "import numpy as np"
   ]
  },
  {
   "cell_type": "code",
   "execution_count": 2,
   "metadata": {
    "collapsed": false
   },
   "outputs": [
    {
     "name": "stdout",
     "output_type": "stream",
     "text": [
      "Actual code executed:\n",
      "from rdflib import Graph, Namespace, URIRef, Literal\n",
      "from rdflib.namespace import DC, NamespaceManager\n",
      "if '__NAMESPACE__' not in globals():\n",
      "    __NAMESPACE__ = 'http://example.org/'\n",
      "__URIDICT__ = {}\n",
      "__PROV__ = Graph()\n",
      "pub = Namespace(\"http://orion.tw.rpi.edu/~fulinyun/ontology/prov-pub/\")\n",
      "prov = Namespace(\"http://www.w3.org/ns/prov#\")\n",
      "example = Namespace(__NAMESPACE__)\n",
      "namespace_manager = NamespaceManager(Graph())\n",
      "namespace_manager.bind('pub', pub, override=False)\n",
      "namespace_manager.bind('prov', prov, override=False)\n",
      "namespace_manager.bind('dc', DC, override=False)\n",
      "namespace_manager.bind('', example, override=False)\n",
      "__PROV__.namespace_manager = namespace_manager\n",
      "\n",
      "Actual code executed:\n",
      "__TEXTDICT__ = {}\n",
      "__TEXTDICT__[0] = \"'CDODiv2177686828992.txt'\"\n",
      "__URIDICT__[0] = __NAMESPACE__+'%27CDODiv2177686828992.txt%27_Sunday_15_November_2015_04_43_02_PM_a'\n",
      "__TEXTDICT__['delimiter'] = \"' '\"\n",
      "__URIDICT__['delimiter'] = __NAMESPACE__+'delimiter_Sunday_15_November_2015_04_43_02_PM_a'\n",
      "__TEXTDICT__['fun'] = \"dataloader.read_csv\"\n",
      "__URIDICT__['fun'] = __NAMESPACE__+'dataloader.read_csv_Sunday_15_November_2015_04_43_02_PM'\n",
      "__TEXTDICT__['return'] = \"csv_content\"\n",
      "__URIDICT__['return'] = __NAMESPACE__+'csv_content_Sunday_15_November_2015_04_43_02_PM'\n",
      "__PROV__.add((URIRef(__URIDICT__['fun']), pub.code, Literal(\"csv_content = dataloader.read_csv('CDODiv2177686828992.txt', delimiter=' ') # load data\")))\n",
      "__RETURN__ = None\n",
      "__RETURN__ = dataloader.read_csv('CDODiv2177686828992.txt', delimiter=' ', namespace=__NAMESPACE__, textdict=__TEXTDICT__, uridict=__URIDICT__, provgraph=__PROV__)\n",
      "csv_content = __RETURN__\n",
      "\n"
     ]
    }
   ],
   "source": [
    "%%initprov -v\n",
    "csv_content = dataloader.read_csv('CDODiv2177686828992.txt', delimiter=' ') # load data"
   ]
  },
  {
   "cell_type": "code",
   "execution_count": null,
   "metadata": {
    "collapsed": false
   },
   "outputs": [],
   "source": [
    "#print(__PROV__.serialize(format='n3'))"
   ]
  },
  {
   "cell_type": "code",
   "execution_count": null,
   "metadata": {
    "collapsed": false
   },
   "outputs": [],
   "source": [
    "#print(csv_content)"
   ]
  },
  {
   "cell_type": "code",
   "execution_count": 3,
   "metadata": {
    "collapsed": false
   },
   "outputs": [
    {
     "name": "stdout",
     "output_type": "stream",
     "text": [
      "First rewritten to:\n",
      "dd=operators.assign(csv_content[['YearMonth','HDD','CDD']])\n",
      "Actual code executed:\n",
      "__TEXTDICT__ = {}\n",
      "__TEXTDICT__[0] = \"csv_content[['YearMonth','HDD','CDD']]\"\n",
      "__URIDICT__[0] = __NAMESPACE__+'csv_content%5B%5B%27YearMonth%27%2C%27HDD%27%2C%27CDD%27%5D%5D_Sunday_15_November_2015_04_43_06_PM_a'\n",
      "__TEXTDICT__['fun'] = \"operators.assign\"\n",
      "__URIDICT__['fun'] = __NAMESPACE__+'operators.assign_Sunday_15_November_2015_04_43_06_PM'\n",
      "__TEXTDICT__['return'] = \"dd\"\n",
      "__URIDICT__['return'] = __NAMESPACE__+'dd_Sunday_15_November_2015_04_43_06_PM'\n",
      "__PROV__.add((URIRef(__URIDICT__['fun']), pub.code, Literal(\"dd=operators.assign(csv_content[['YearMonth','HDD','CDD']])\")))\n",
      "__RETURN__ = None\n",
      "__RETURN__ = operators.assign(csv_content[['YearMonth','HDD','CDD']], namespace=__NAMESPACE__, textdict=__TEXTDICT__, uridict=__URIDICT__, provgraph=__PROV__)\n",
      "dd = __RETURN__\n",
      "\n"
     ]
    }
   ],
   "source": [
    "%%prov -v\n",
    "dd = csv_content[['YearMonth','HDD','CDD']] # project"
   ]
  },
  {
   "cell_type": "code",
   "execution_count": null,
   "metadata": {
    "collapsed": false,
    "scrolled": true
   },
   "outputs": [],
   "source": [
    "#dd"
   ]
  },
  {
   "cell_type": "code",
   "execution_count": null,
   "metadata": {
    "collapsed": false
   },
   "outputs": [],
   "source": [
    "#print(__PROV__.serialize(format='n3'))"
   ]
  },
  {
   "cell_type": "code",
   "execution_count": 4,
   "metadata": {
    "collapsed": false
   },
   "outputs": [
    {
     "name": "stdout",
     "output_type": "stream",
     "text": [
      "First rewritten to:\n",
      "dd.loc[:,'Year']=operators.assign(dd['YearMonth']//100)\n",
      "Actual code executed:\n",
      "__TEXTDICT__ = {}\n",
      "__TEXTDICT__[0] = \"dd['YearMonth']//100\"\n",
      "__URIDICT__[0] = __NAMESPACE__+'dd%5B%27YearMonth%27%5D%2F%2F100_Sunday_15_November_2015_04_43_14_PM_a'\n",
      "__TEXTDICT__['fun'] = \"operators.assign\"\n",
      "__URIDICT__['fun'] = __NAMESPACE__+'operators.assign_Sunday_15_November_2015_04_43_14_PM'\n",
      "__TEXTDICT__['return'] = \"dd.loc[:,'Year']\"\n",
      "__URIDICT__['return'] = __NAMESPACE__+'dd.loc%5B%3A%2C%27Year%27%5D_Sunday_15_November_2015_04_43_14_PM'\n",
      "__PROV__.add((URIRef(__URIDICT__['fun']), pub.code, Literal(\"dd.loc[:,'Year']=operators.assign(dd['YearMonth']//100)\")))\n",
      "__RETURN__ = None\n",
      "__RETURN__ = operators.assign(dd['YearMonth']//100, namespace=__NAMESPACE__, textdict=__TEXTDICT__, uridict=__URIDICT__, provgraph=__PROV__)\n",
      "dd.loc[:,'Year'] = __RETURN__\n",
      "\n"
     ]
    },
    {
     "name": "stderr",
     "output_type": "stream",
     "text": [
      "D:\\Programs\\Anaconda\\lib\\site-packages\\pandas\\core\\indexing.py:249: SettingWithCopyWarning: \n",
      "A value is trying to be set on a copy of a slice from a DataFrame.\n",
      "Try using .loc[row_indexer,col_indexer] = value instead\n",
      "\n",
      "See the the caveats in the documentation: http://pandas.pydata.org/pandas-docs/stable/indexing.html#indexing-view-versus-copy\n",
      "  self.obj[key] = _infer_fill_value(value)\n",
      "D:\\Programs\\Anaconda\\lib\\site-packages\\pandas\\core\\indexing.py:415: SettingWithCopyWarning: \n",
      "A value is trying to be set on a copy of a slice from a DataFrame.\n",
      "Try using .loc[row_indexer,col_indexer] = value instead\n",
      "\n",
      "See the the caveats in the documentation: http://pandas.pydata.org/pandas-docs/stable/indexing.html#indexing-view-versus-copy\n",
      "  self.obj[item] = s\n"
     ]
    }
   ],
   "source": [
    "%%prov -v\n",
    "dd.loc[:,'Year'] = dd['YearMonth']//100"
   ]
  },
  {
   "cell_type": "code",
   "execution_count": null,
   "metadata": {
    "collapsed": false,
    "scrolled": true
   },
   "outputs": [],
   "source": [
    "#dd"
   ]
  },
  {
   "cell_type": "code",
   "execution_count": null,
   "metadata": {
    "collapsed": false
   },
   "outputs": [],
   "source": [
    "#print(__PROV__.serialize(format='n3'))"
   ]
  },
  {
   "cell_type": "code",
   "execution_count": 5,
   "metadata": {
    "collapsed": false
   },
   "outputs": [
    {
     "name": "stdout",
     "output_type": "stream",
     "text": [
      "First rewritten to:\n",
      "dd=operators.delete(dd,'YearMonth')\n",
      "Actual code executed:\n",
      "__TEXTDICT__ = {}\n",
      "__TEXTDICT__[0] = \"dd\"\n",
      "__URIDICT__[0] = __NAMESPACE__+'dd_Sunday_15_November_2015_04_43_27_PM_a'\n",
      "__TEXTDICT__[1] = \"'YearMonth'\"\n",
      "__URIDICT__[1] = __NAMESPACE__+'%27YearMonth%27_Sunday_15_November_2015_04_43_27_PM_a'\n",
      "__TEXTDICT__['fun'] = \"operators.delete\"\n",
      "__URIDICT__['fun'] = __NAMESPACE__+'operators.delete_Sunday_15_November_2015_04_43_27_PM'\n",
      "__TEXTDICT__['return'] = \"dd\"\n",
      "__URIDICT__['return'] = __NAMESPACE__+'dd_Sunday_15_November_2015_04_43_27_PM'\n",
      "__PROV__.add((URIRef(__URIDICT__['fun']), pub.code, Literal(\"dd=operators.delete(dd,'YearMonth')\")))\n",
      "__RETURN__ = None\n",
      "__RETURN__ = operators.delete(dd,'YearMonth', namespace=__NAMESPACE__, textdict=__TEXTDICT__, uridict=__URIDICT__, provgraph=__PROV__)\n",
      "dd = __RETURN__\n",
      "\n"
     ]
    }
   ],
   "source": [
    "%%prov -v\n",
    "del dd['YearMonth']"
   ]
  },
  {
   "cell_type": "code",
   "execution_count": null,
   "metadata": {
    "collapsed": false,
    "scrolled": true
   },
   "outputs": [],
   "source": [
    "#dd"
   ]
  },
  {
   "cell_type": "code",
   "execution_count": null,
   "metadata": {
    "collapsed": false
   },
   "outputs": [],
   "source": [
    "#print(__PROV__.serialize(format='n3'))"
   ]
  },
  {
   "cell_type": "code",
   "execution_count": 6,
   "metadata": {
    "collapsed": false
   },
   "outputs": [
    {
     "name": "stdout",
     "output_type": "stream",
     "text": [
      "Actual code executed:\n",
      "__TEXTDICT__ = {}\n",
      "__TEXTDICT__[0] = \"dd\"\n",
      "__URIDICT__[0] = __NAMESPACE__+'dd_Sunday_15_November_2015_04_43_35_PM_a'\n",
      "__TEXTDICT__[1] = \"'Year'\"\n",
      "__URIDICT__[1] = __NAMESPACE__+'%27Year%27_Sunday_15_November_2015_04_43_35_PM_a'\n",
      "__TEXTDICT__[2] = \"np.sum\"\n",
      "__URIDICT__[2] = __NAMESPACE__+'np.sum_Sunday_15_November_2015_04_43_35_PM_a'\n",
      "__TEXTDICT__['fun'] = \"datatransformer.group_aggregate\"\n",
      "__URIDICT__['fun'] = __NAMESPACE__+'datatransformer.group_aggregate_Sunday_15_November_2015_04_43_35_PM'\n",
      "__TEXTDICT__['return'] = \"dd_year\"\n",
      "__URIDICT__['return'] = __NAMESPACE__+'dd_year_Sunday_15_November_2015_04_43_35_PM'\n",
      "__PROV__.add((URIRef(__URIDICT__['fun']), pub.code, Literal(\"dd_year = datatransformer.group_aggregate(dd, 'Year', np.sum)\")))\n",
      "__RETURN__ = None\n",
      "__RETURN__ = datatransformer.group_aggregate(dd, 'Year', np.sum, namespace=__NAMESPACE__, textdict=__TEXTDICT__, uridict=__URIDICT__, provgraph=__PROV__)\n",
      "dd_year = __RETURN__\n",
      "\n"
     ]
    }
   ],
   "source": [
    "%%prov -v\n",
    "dd_year = datatransformer.group_aggregate(dd, 'Year', np.sum)"
   ]
  },
  {
   "cell_type": "code",
   "execution_count": 7,
   "metadata": {
    "collapsed": false
   },
   "outputs": [
    {
     "name": "stdout",
     "output_type": "stream",
     "text": [
      "@prefix : <http://example.org/> .\n",
      "@prefix dc: <http://purl.org/dc/elements/1.1/> .\n",
      "@prefix prov: <http://www.w3.org/ns/prov#> .\n",
      "@prefix pub: <http://orion.tw.rpi.edu/~fulinyun/ontology/prov-pub/> .\n",
      "@prefix rdf: <http://www.w3.org/1999/02/22-rdf-syntax-ns#> .\n",
      "@prefix rdfs: <http://www.w3.org/2000/01/rdf-schema#> .\n",
      "@prefix xml: <http://www.w3.org/XML/1998/namespace> .\n",
      "@prefix xsd: <http://www.w3.org/2001/XMLSchema#> .\n",
      "\n",
      ":dataloader.read_csv_Sunday_15_November_2015_04_43_02_PM a pub:Loading ;\n",
      "    pub:code \"csv_content = dataloader.read_csv('CDODiv2177686828992.txt', delimiter=' ') # load data\" ;\n",
      "    pub:language \"Python\" ;\n",
      "    pub:loaded <http://example.org/%27CDODiv2177686828992.txt%27_Sunday_15_November_2015_04_43_02_PM_a> ;\n",
      "    dc:description \"Read CSV data in file CDODiv2177686828992.txt to variable csv_content\" ;\n",
      "    prov:endedAtTime \"2015-11-15T16:43:02+00:00\"^^xsd:dateTime ;\n",
      "    prov:generated :csv_content_Sunday_15_November_2015_04_43_02_PM ;\n",
      "    prov:startedAtTime \"2015-11-15T16:43:02+00:00\"^^xsd:dateTime ;\n",
      "    prov:used :pandas .\n",
      "\n",
      ":datatransformer.group_aggregate_Sunday_15_November_2015_04_43_35_PM a pub:Transformation ;\n",
      "    pub:code \"dd_year = datatransformer.group_aggregate(dd, 'Year', np.sum)\" ;\n",
      "    pub:language \"Python\" ;\n",
      "    pub:transformed :dd_Sunday_15_November_2015_04_43_35_PM_a ;\n",
      "    dc:description \"Group data in data frame dd by key(s) 'Year' and aggregate by function np.sum to get data in dd_year\" ;\n",
      "    prov:endedAtTime \"2015-11-15T16:43:35+00:00\"^^xsd:dateTime ;\n",
      "    prov:generated :dd_year_Sunday_15_November_2015_04_43_35_PM ;\n",
      "    prov:startedAtTime \"2015-11-15T16:43:35+00:00\"^^xsd:dateTime ;\n",
      "    prov:used :numpy,\n",
      "        :pandas .\n",
      "\n",
      ":operators.assign_Sunday_15_November_2015_04_43_06_PM a prov:Activity ;\n",
      "    pub:code \"dd=operators.assign(csv_content[['YearMonth','HDD','CDD']])\" ;\n",
      "    pub:language \"Python\" ;\n",
      "    dc:description \"Assign expression csv_content[['YearMonth','HDD','CDD']] to variable dd\" ;\n",
      "    prov:endedAtTime \"2015-11-15T16:43:06+00:00\"^^xsd:dateTime ;\n",
      "    prov:generated :dd_Sunday_15_November_2015_04_43_06_PM ;\n",
      "    prov:startedAtTime \"2015-11-15T16:43:06+00:00\"^^xsd:dateTime ;\n",
      "    prov:used <http://example.org/csv_content%5B%5B%27YearMonth%27%2C%27HDD%27%2C%27CDD%27%5D%5D_Sunday_15_November_2015_04_43_06_PM_a> .\n",
      "\n",
      ":operators.assign_Sunday_15_November_2015_04_43_14_PM a prov:Activity ;\n",
      "    pub:code \"dd.loc[:,'Year']=operators.assign(dd['YearMonth']//100)\" ;\n",
      "    pub:language \"Python\" ;\n",
      "    dc:description \"Assign expression dd['YearMonth']//100 to variable dd.loc[:,'Year']\" ;\n",
      "    prov:endedAtTime \"2015-11-15T16:43:14+00:00\"^^xsd:dateTime ;\n",
      "    prov:generated <http://example.org/dd.loc%5B%3A%2C%27Year%27%5D_Sunday_15_November_2015_04_43_14_PM> ;\n",
      "    prov:startedAtTime \"2015-11-15T16:43:14+00:00\"^^xsd:dateTime ;\n",
      "    prov:used <http://example.org/dd%5B%27YearMonth%27%5D%2F%2F100_Sunday_15_November_2015_04_43_14_PM_a> .\n",
      "\n",
      ":operators.delete_Sunday_15_November_2015_04_43_27_PM a pub:Transformation ;\n",
      "    pub:code \"dd=operators.delete(dd,'YearMonth')\" ;\n",
      "    pub:language \"Python\" ;\n",
      "    pub:transformed :dd_Sunday_15_November_2015_04_43_27_PM_a ;\n",
      "    dc:description \"Delete dd['YearMonth']\" ;\n",
      "    prov:endedAtTime \"2015-11-15T16:43:27+00:00\"^^xsd:dateTime ;\n",
      "    prov:generated :dd_Sunday_15_November_2015_04_43_27_PM ;\n",
      "    prov:startedAtTime \"2015-11-15T16:43:27+00:00\"^^xsd:dateTime .\n",
      "\n",
      "<http://example.org/%27CDODiv2177686828992.txt%27_Sunday_15_November_2015_04_43_02_PM_a> a pub:OnDiskData ;\n",
      "    dc:description \"Data stored in file CDODiv2177686828992.txt\" .\n",
      "\n",
      "<http://example.org/csv_content%5B%5B%27YearMonth%27%2C%27HDD%27%2C%27CDD%27%5D%5D_Sunday_15_November_2015_04_43_06_PM_a> a pub:InMemoryData ;\n",
      "    dc:description \"Expression csv_content[['YearMonth','HDD','CDD']]\" .\n",
      "\n",
      ":csv_content_Sunday_15_November_2015_04_43_02_PM a pub:InMemoryData ;\n",
      "    dc:description \"Data held by variable csv_content\" .\n",
      "\n",
      "<http://example.org/dd%5B%27YearMonth%27%5D%2F%2F100_Sunday_15_November_2015_04_43_14_PM_a> a pub:InMemoryData ;\n",
      "    dc:description \"Expression dd['YearMonth']//100\" .\n",
      "\n",
      "<http://example.org/dd.loc%5B%3A%2C%27Year%27%5D_Sunday_15_November_2015_04_43_14_PM> a prov:Entity ;\n",
      "    dc:description \"Data or result held by variable dd.loc[:,'Year']\" .\n",
      "\n",
      ":dd_Sunday_15_November_2015_04_43_06_PM a prov:Entity ;\n",
      "    dc:description \"Data or result held by variable dd\" .\n",
      "\n",
      ":dd_Sunday_15_November_2015_04_43_27_PM a pub:InMemoryData ;\n",
      "    dc:description \"Data held by variable dd\" .\n",
      "\n",
      ":dd_Sunday_15_November_2015_04_43_27_PM_a a pub:InMemoryData ;\n",
      "    dc:description \"Variable dd\" .\n",
      "\n",
      ":dd_Sunday_15_November_2015_04_43_35_PM_a a pub:InMemoryData ;\n",
      "    dc:description \"Data frame held by variable or expression dd\" .\n",
      "\n",
      ":dd_year_Sunday_15_November_2015_04_43_35_PM a pub:InMemoryData ;\n",
      "    dc:description \"Data held by variable or expression dd_year\" .\n",
      "\n",
      ":numpy a pub:Library ;\n",
      "    dc:description \"The numpy Python library\" .\n",
      "\n",
      ":pandas a pub:Library ;\n",
      "    dc:description \"The pandas Python library\" .\n",
      "\n",
      "\n"
     ]
    }
   ],
   "source": [
    "print(__PROV__.serialize(format='n3'))"
   ]
  },
  {
   "cell_type": "code",
   "execution_count": null,
   "metadata": {
    "collapsed": true
   },
   "outputs": [],
   "source": []
  }
 ],
 "metadata": {
  "kernelspec": {
   "display_name": "Python 2",
   "language": "python",
   "name": "python2"
  },
  "language_info": {
   "codemirror_mode": {
    "name": "ipython",
    "version": 2
   },
   "file_extension": ".py",
   "mimetype": "text/x-python",
   "name": "python",
   "nbconvert_exporter": "python",
   "pygments_lexer": "ipython2",
   "version": "2.7.10"
  }
 },
 "nbformat": 4,
 "nbformat_minor": 0
}
