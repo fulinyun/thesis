{
 "cells": [
  {
   "cell_type": "code",
   "execution_count": 1,
   "metadata": {
    "collapsed": false
   },
   "outputs": [],
   "source": [
    "import sys\n",
    "sys.path.append('prov')\n",
    "import dataloader as dl\n",
    "import datatransformer as dt\n",
    "import datasaver as ds\n",
    "import dataplotter as dp\n",
    "import provmagic\n",
    "import numpy as np"
   ]
  },
  {
   "cell_type": "code",
   "execution_count": 2,
   "metadata": {
    "collapsed": false
   },
   "outputs": [
    {
     "name": "stdout",
     "output_type": "stream",
     "text": [
      "Actual code executed:\n",
      "from rdflib import Graph, Namespace, URIRef, Literal\n",
      "from rdflib.namespace import DC, NamespaceManager\n",
      "import operators\n",
      "if '__NAMESPACE__' not in globals():\n",
      "    __NAMESPACE__ = 'http://example.org/'\n",
      "__URIDICT__ = {}\n",
      "__TEXTDICT__ = {}\n",
      "__PROV__ = Graph()\n",
      "pub = Namespace(\"http://orion.tw.rpi.edu/~fulinyun/ontology/prov-pub/\")\n",
      "prov = Namespace(\"http://www.w3.org/ns/prov#\")\n",
      "example = Namespace(__NAMESPACE__)\n",
      "namespace_manager = NamespaceManager(Graph())\n",
      "namespace_manager.bind('pub', pub, override=False)\n",
      "namespace_manager.bind('prov', prov, override=False)\n",
      "namespace_manager.bind('dc', DC, override=False)\n",
      "namespace_manager.bind('', example, override=False)\n",
      "__PROV__.namespace_manager = namespace_manager\n",
      "\n",
      "Actual code executed:\n",
      "__TEXTDICT__ = {}\n",
      "__TEXTDICT__[0] = \"'CDODiv2177686828992.txt'\"\n",
      "__URIDICT__[0] = __NAMESPACE__+'%27CDODiv2177686828992.txt%27_Monday_16_November_2015_09_56_15_PM_a'\n",
      "__TEXTDICT__['delimiter'] = \"' '\"\n",
      "__URIDICT__['delimiter'] = __NAMESPACE__+'delimiter_Monday_16_November_2015_09_56_15_PM_a'\n",
      "__TEXTDICT__['fun'] = \"dl.read_csv\"\n",
      "__URIDICT__['fun'] = __NAMESPACE__+'dl.read_csv_Monday_16_November_2015_09_56_15_PM'\n",
      "__TEXTDICT__['return'] = \"csv_content\"\n",
      "__URIDICT__['return'] = __NAMESPACE__+'csv_content_Monday_16_November_2015_09_56_15_PM'\n",
      "__PROV__.add((URIRef(__URIDICT__['fun']), pub.code, Literal(\"csv_content = dl.read_csv('CDODiv2177686828992.txt', delimiter=' ') # load data\")))\n",
      "__RETURN__ = None\n",
      "__RETURN__ = dl.read_csv('CDODiv2177686828992.txt', delimiter=' ', namespace=__NAMESPACE__, textdict=__TEXTDICT__, uridict=__URIDICT__, provgraph=__PROV__)\n",
      "csv_content = __RETURN__\n",
      "\n"
     ]
    }
   ],
   "source": [
    "%%initprov -v\n",
    "csv_content = dl.read_csv('CDODiv2177686828992.txt', delimiter=' ') # load data"
   ]
  },
  {
   "cell_type": "code",
   "execution_count": 3,
   "metadata": {
    "collapsed": false
   },
   "outputs": [
    {
     "name": "stdout",
     "output_type": "stream",
     "text": [
      "First rewritten to:\n",
      "dd=operators.assign(csv_content[['YearMonth','HDD','CDD']])\n",
      "Actual code executed:\n",
      "__TEXTDICT__ = {}\n",
      "__TEXTDICT__[0] = \"csv_content[['YearMonth','HDD','CDD']]\"\n",
      "__URIDICT__[0] = __NAMESPACE__+'csv_content%5B%5B%27YearMonth%27%2C%27HDD%27%2C%27CDD%27%5D%5D_Monday_16_November_2015_09_56_25_PM_a'\n",
      "__TEXTDICT__['fun'] = \"operators.assign\"\n",
      "__URIDICT__['fun'] = __NAMESPACE__+'operators.assign_Monday_16_November_2015_09_56_25_PM'\n",
      "__TEXTDICT__['return'] = \"dd\"\n",
      "__URIDICT__['return'] = __NAMESPACE__+'dd_Monday_16_November_2015_09_56_25_PM'\n",
      "__PROV__.add((URIRef(__URIDICT__['fun']), pub.code, Literal(\"dd=operators.assign(csv_content[['YearMonth','HDD','CDD']])\")))\n",
      "__RETURN__ = None\n",
      "__RETURN__ = operators.assign(csv_content[['YearMonth','HDD','CDD']], namespace=__NAMESPACE__, textdict=__TEXTDICT__, uridict=__URIDICT__, provgraph=__PROV__)\n",
      "dd = __RETURN__\n",
      "\n"
     ]
    }
   ],
   "source": [
    "%%prov -v\n",
    "dd = csv_content[['YearMonth','HDD','CDD']] # project"
   ]
  },
  {
   "cell_type": "code",
   "execution_count": null,
   "metadata": {
    "collapsed": false
   },
   "outputs": [],
   "source": [
    "%%prov -v\n",
    "dd.loc[:,'Year'] = dd['YearMonth']//100"
   ]
  },
  {
   "cell_type": "code",
   "execution_count": null,
   "metadata": {
    "collapsed": false
   },
   "outputs": [],
   "source": [
    "%%prov -v\n",
    "del dd['YearMonth']"
   ]
  },
  {
   "cell_type": "code",
   "execution_count": null,
   "metadata": {
    "collapsed": false
   },
   "outputs": [],
   "source": [
    "%%prov -v\n",
    "dd_year = dt.group_aggregate(dd, 'Year', np.sum)"
   ]
  },
  {
   "cell_type": "code",
   "execution_count": null,
   "metadata": {
    "collapsed": false
   },
   "outputs": [],
   "source": [
    "%%prov -v\n",
    "cdd_avg = dt.average(dd_year['CDD'][0:31])\n",
    "hdd_avg = dt.average(dd_year['HDD'][0:31])\n",
    "dd_year.loc[:, 'HDD'] = dd_year['HDD']/hdd_avg*100-100\n",
    "dd_year.loc[:, 'CDD'] = dd_year['CDD']/cdd_avg*100-100"
   ]
  },
  {
   "cell_type": "code",
   "execution_count": null,
   "metadata": {
    "collapsed": false
   },
   "outputs": [],
   "source": [
    "%%prov -v\n",
    "ds.write_csv(dd_year, 'dd_year.csv')"
   ]
  },
  {
   "cell_type": "code",
   "execution_count": null,
   "metadata": {
    "collapsed": false
   },
   "outputs": [],
   "source": [
    "%%prov -v\n",
    "fig = dp.plot(dd_year, kind='bar', figsize=(20,10))"
   ]
  },
  {
   "cell_type": "code",
   "execution_count": null,
   "metadata": {
    "collapsed": false
   },
   "outputs": [],
   "source": [
    "%pylab inline\n",
    "fig"
   ]
  },
  {
   "cell_type": "code",
   "execution_count": null,
   "metadata": {
    "collapsed": true
   },
   "outputs": [],
   "source": [
    "fig.savefig('dd_year.png')"
   ]
  },
  {
   "cell_type": "code",
   "execution_count": null,
   "metadata": {
    "collapsed": false,
    "scrolled": false
   },
   "outputs": [],
   "source": [
    "print(__PROV__.serialize(format='n3'))"
   ]
  },
  {
   "cell_type": "code",
   "execution_count": null,
   "metadata": {
    "collapsed": true
   },
   "outputs": [],
   "source": []
  }
 ],
 "metadata": {
  "kernelspec": {
   "display_name": "Python 2",
   "language": "python",
   "name": "python2"
  },
  "language_info": {
   "codemirror_mode": {
    "name": "ipython",
    "version": 2
   },
   "file_extension": ".py",
   "mimetype": "text/x-python",
   "name": "python",
   "nbconvert_exporter": "python",
   "pygments_lexer": "ipython2",
   "version": "2.7.10"
  }
 },
 "nbformat": 4,
 "nbformat_minor": 0
}
