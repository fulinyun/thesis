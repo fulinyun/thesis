{
 "cells": [
  {
   "cell_type": "code",
   "execution_count": 2,
   "metadata": {
    "collapsed": false
   },
   "outputs": [],
   "source": [
    "import sys\n",
    "sys.path.append('prov')\n",
    "import dataloader as dl\n",
    "import datatransformer as dt\n",
    "import datasaver as ds\n",
    "import dataplotter as dp\n",
    "import provmagic\n",
    "import numpy as np"
   ]
  },
  {
   "cell_type": "code",
   "execution_count": 3,
   "metadata": {
    "collapsed": false,
    "scrolled": false
   },
   "outputs": [
    {
     "name": "stdout",
     "output_type": "stream",
     "text": [
      "Actual code executed:\n",
      "from rdflib import Graph, Namespace, URIRef, Literal\n",
      "from rdflib.namespace import DC, NamespaceManager\n",
      "import operators\n",
      "if '__NAMESPACE__' not in globals():\n",
      "\t__NAMESPACE__ = 'http://example.org/'\n",
      "__OBJDICT__ = {}\n",
      "__URIDICT__ = {}\n",
      "__TEXTDICT__ = {}\n",
      "__PROV__ = Graph()\n",
      "pub = Namespace(\"http://orion.tw.rpi.edu/~fulinyun/ontology/prov-pub/\")\n",
      "prov = Namespace(\"http://www.w3.org/ns/prov#\")\n",
      "example = Namespace(__NAMESPACE__)\n",
      "namespace_manager = NamespaceManager(Graph())\n",
      "namespace_manager.bind('pub', pub, override=False)\n",
      "namespace_manager.bind('prov', prov, override=False)\n",
      "namespace_manager.bind('dc', DC, override=False)\n",
      "namespace_manager.bind('', example, override=False)\n",
      "__PROV__.namespace_manager = namespace_manager\n",
      "\n",
      "Actual code executed:\n",
      "__TEXTDICT__ = {}\n",
      "__TEXTDICT__[0] = \"'CDODiv2177686828992.txt'\"\n",
      "if \"'CDODiv2177686828992.txt'\" in __OBJDICT__:\n",
      "\t__URIDICT__[0] = __OBJDICT__[\"'CDODiv2177686828992.txt'\"]\n",
      "else:\n",
      "\t__OBJDICT__[\"'CDODiv2177686828992.txt'\"] = __URIDICT__[0] = __NAMESPACE__+'%27CDODiv2177686828992.txt%27_2015_11_30T16_15_50Z_a'\n",
      "__TEXTDICT__['delimiter'] = \"' '\"\n",
      "if \"' '\" in __OBJDICT__:\n",
      "\t__URIDICT__['delimiter'] = __OBJDICT__[\"' '\"]\n",
      "else:\n",
      "\t__OBJDICT__[\"' '\"] = __URIDICT__['delimiter'] = __NAMESPACE__+'%27+%27_2015_11_30T16_15_50Z_a'\n",
      "__TEXTDICT__['fun'] = \"dl.read_csv\"\n",
      "__URIDICT__['fun'] = __NAMESPACE__+'dl.read_csv_2015_11_30T16_15_50Z'\n",
      "__TEXTDICT__['return'] = \"csv_content\"\n",
      "__OBJDICT__[\"csv_content\"] = __URIDICT__['return'] = __NAMESPACE__+'csv_content_2015_11_30T16_15_50Z'\n",
      "__PROV__.add((URIRef(__URIDICT__['fun']), pub.code, Literal(\"csv_content = dl.read_csv('CDODiv2177686828992.txt', delimiter=' ') # load data\")))\n",
      "__RETURN__ = None\n",
      "__RETURN__ = dl.read_csv('CDODiv2177686828992.txt', delimiter=' ', namespace=__NAMESPACE__, textdict=__TEXTDICT__, uridict=__URIDICT__, provgraph=__PROV__)\n",
      "csv_content = __RETURN__\n",
      "\n"
     ]
    }
   ],
   "source": [
    "%%initprov -v\n",
    "csv_content = dl.read_csv('CDODiv2177686828992.txt', delimiter=' ') # load data"
   ]
  },
  {
   "cell_type": "code",
   "execution_count": 4,
   "metadata": {
    "collapsed": false,
    "scrolled": false
   },
   "outputs": [
    {
     "name": "stdout",
     "output_type": "stream",
     "text": [
      "First rewritten to:\n",
      "dd=operators.assign(csv_content[['YearMonth','HDD','CDD']])\n",
      "Actual code executed:\n",
      "__TEXTDICT__ = {}\n",
      "__TEXTDICT__[0] = \"csv_content[['YearMonth','HDD','CDD']]\"\n",
      "if \"csv_content[['YearMonth','HDD','CDD']]\" in __OBJDICT__:\n",
      "\t__URIDICT__[0] = __OBJDICT__[\"csv_content[['YearMonth','HDD','CDD']]\"]\n",
      "else:\n",
      "\t__OBJDICT__[\"csv_content[['YearMonth','HDD','CDD']]\"] = __URIDICT__[0] = __NAMESPACE__+'csv_content%5B%5B%27YearMonth%27%2C%27HDD%27%2C%27CDD%27%5D%5D_2015_11_30T16_15_50Z_a'\n",
      "__TEXTDICT__['fun'] = \"operators.assign\"\n",
      "__URIDICT__['fun'] = __NAMESPACE__+'operators.assign_2015_11_30T16_15_50Z'\n",
      "__TEXTDICT__['return'] = \"dd\"\n",
      "__OBJDICT__[\"dd\"] = __URIDICT__['return'] = __NAMESPACE__+'dd_2015_11_30T16_15_50Z'\n",
      "__PROV__.add((URIRef(__URIDICT__['fun']), pub.code, Literal(\"dd = csv_content[['YearMonth','HDD','CDD']] # project\")))\n",
      "__RETURN__ = None\n",
      "__RETURN__ = operators.assign(csv_content[['YearMonth','HDD','CDD']], namespace=__NAMESPACE__, textdict=__TEXTDICT__, uridict=__URIDICT__, provgraph=__PROV__)\n",
      "dd = __RETURN__\n",
      "\n"
     ]
    }
   ],
   "source": [
    "%%prov -v\n",
    "dd = csv_content[['YearMonth','HDD','CDD']] # project"
   ]
  },
  {
   "cell_type": "code",
   "execution_count": 4,
   "metadata": {
    "collapsed": false
   },
   "outputs": [
    {
     "name": "stdout",
     "output_type": "stream",
     "text": [
      "First rewritten to:\n",
      "dd.loc[:,'Year']=operators.assign(dd['YearMonth']//100)\n",
      "Actual code executed:\n",
      "__TEXTDICT__ = {}\n",
      "__TEXTDICT__[0] = \"dd['YearMonth']//100\"\n",
      "if \"dd['YearMonth']//100\" in __OBJDICT__:\n",
      "\t__URIDICT__[0] = __OBJDICT__[\"dd['YearMonth']//100\"]\n",
      "else:\n",
      "\t__OBJDICT__[\"dd['YearMonth']//100\"] = __URIDICT__[0] = __NAMESPACE__+'dd%5B%27YearMonth%27%5D%2F%2F100_2015_11_21T02_31_36Z_a'\n",
      "__TEXTDICT__['fun'] = \"operators.assign\"\n",
      "__URIDICT__['fun'] = __NAMESPACE__+'operators.assign_2015_11_21T02_31_36Z'\n",
      "__TEXTDICT__['return'] = \"dd\"\n",
      "__OBJDICT__[\"dd\"] = __URIDICT__['return'] = __NAMESPACE__+'dd_2015_11_21T02_31_36Z'\n",
      "__PROV__.add((URIRef(__URIDICT__['fun']), pub.code, Literal(\"dd.loc[:,'Year'] = dd['YearMonth']//100\")))\n",
      "__RETURN__ = None\n",
      "__RETURN__ = operators.assign(dd['YearMonth']//100, namespace=__NAMESPACE__, textdict=__TEXTDICT__, uridict=__URIDICT__, provgraph=__PROV__)\n",
      "dd.loc[:,'Year'] = __RETURN__\n",
      "\n"
     ]
    },
    {
     "name": "stderr",
     "output_type": "stream",
     "text": [
      "D:\\Programs\\Anaconda\\lib\\site-packages\\pandas\\core\\indexing.py:249: SettingWithCopyWarning: \n",
      "A value is trying to be set on a copy of a slice from a DataFrame.\n",
      "Try using .loc[row_indexer,col_indexer] = value instead\n",
      "\n",
      "See the the caveats in the documentation: http://pandas.pydata.org/pandas-docs/stable/indexing.html#indexing-view-versus-copy\n",
      "  self.obj[key] = _infer_fill_value(value)\n",
      "D:\\Programs\\Anaconda\\lib\\site-packages\\pandas\\core\\indexing.py:415: SettingWithCopyWarning: \n",
      "A value is trying to be set on a copy of a slice from a DataFrame.\n",
      "Try using .loc[row_indexer,col_indexer] = value instead\n",
      "\n",
      "See the the caveats in the documentation: http://pandas.pydata.org/pandas-docs/stable/indexing.html#indexing-view-versus-copy\n",
      "  self.obj[item] = s\n"
     ]
    }
   ],
   "source": [
    "%%prov -v\n",
    "dd.loc[:,'Year'] = dd['YearMonth']//100"
   ]
  },
  {
   "cell_type": "code",
   "execution_count": 5,
   "metadata": {
    "collapsed": false
   },
   "outputs": [
    {
     "name": "stdout",
     "output_type": "stream",
     "text": [
      "First rewritten to:\n",
      "dd=operators.delete(dd,'YearMonth')\n",
      "Actual code executed:\n",
      "__TEXTDICT__ = {}\n",
      "__TEXTDICT__[0] = \"dd\"\n",
      "if \"dd\" in __OBJDICT__:\n",
      "\t__URIDICT__[0] = __OBJDICT__[\"dd\"]\n",
      "else:\n",
      "\t__OBJDICT__[\"dd\"] = __URIDICT__[0] = __NAMESPACE__+'dd_2015_11_21T02_31_40Z_a'\n",
      "__TEXTDICT__[1] = \"'YearMonth'\"\n",
      "if \"'YearMonth'\" in __OBJDICT__:\n",
      "\t__URIDICT__[1] = __OBJDICT__[\"'YearMonth'\"]\n",
      "else:\n",
      "\t__OBJDICT__[\"'YearMonth'\"] = __URIDICT__[1] = __NAMESPACE__+'%27YearMonth%27_2015_11_21T02_31_40Z_a'\n",
      "__TEXTDICT__['fun'] = \"operators.delete\"\n",
      "__URIDICT__['fun'] = __NAMESPACE__+'operators.delete_2015_11_21T02_31_40Z'\n",
      "__TEXTDICT__['return'] = \"dd\"\n",
      "__OBJDICT__[\"dd\"] = __URIDICT__['return'] = __NAMESPACE__+'dd_2015_11_21T02_31_40Z1'\n",
      "__PROV__.add((URIRef(__URIDICT__['fun']), pub.code, Literal(\"del dd['YearMonth']\")))\n",
      "__RETURN__ = None\n",
      "__RETURN__ = operators.delete(dd,'YearMonth', namespace=__NAMESPACE__, textdict=__TEXTDICT__, uridict=__URIDICT__, provgraph=__PROV__)\n",
      "dd = __RETURN__\n",
      "\n"
     ]
    }
   ],
   "source": [
    "%%prov -v\n",
    "del dd['YearMonth']"
   ]
  },
  {
   "cell_type": "code",
   "execution_count": 6,
   "metadata": {
    "collapsed": false
   },
   "outputs": [
    {
     "name": "stdout",
     "output_type": "stream",
     "text": [
      "Actual code executed:\n",
      "__TEXTDICT__ = {}\n",
      "__TEXTDICT__[0] = \"dd\"\n",
      "if \"dd\" in __OBJDICT__:\n",
      "\t__URIDICT__[0] = __OBJDICT__[\"dd\"]\n",
      "else:\n",
      "\t__OBJDICT__[\"dd\"] = __URIDICT__[0] = __NAMESPACE__+'dd_2015_11_21T02_31_46Z_a'\n",
      "__TEXTDICT__[1] = \"'Year'\"\n",
      "if \"'Year'\" in __OBJDICT__:\n",
      "\t__URIDICT__[1] = __OBJDICT__[\"'Year'\"]\n",
      "else:\n",
      "\t__OBJDICT__[\"'Year'\"] = __URIDICT__[1] = __NAMESPACE__+'%27Year%27_2015_11_21T02_31_46Z_a'\n",
      "__TEXTDICT__[2] = \"np.sum\"\n",
      "if \"np.sum\" in __OBJDICT__:\n",
      "\t__URIDICT__[2] = __OBJDICT__[\"np.sum\"]\n",
      "else:\n",
      "\t__OBJDICT__[\"np.sum\"] = __URIDICT__[2] = __NAMESPACE__+'np.sum_2015_11_21T02_31_46Z_a'\n",
      "__TEXTDICT__['fun'] = \"dt.group_aggregate\"\n",
      "__URIDICT__['fun'] = __NAMESPACE__+'dt.group_aggregate_2015_11_21T02_31_46Z'\n",
      "__TEXTDICT__['return'] = \"dd_year\"\n",
      "__OBJDICT__[\"dd_year\"] = __URIDICT__['return'] = __NAMESPACE__+'dd_year_2015_11_21T02_31_46Z'\n",
      "__PROV__.add((URIRef(__URIDICT__['fun']), pub.code, Literal(\"dd_year = dt.group_aggregate(dd, 'Year', np.sum)\")))\n",
      "__RETURN__ = None\n",
      "__RETURN__ = dt.group_aggregate(dd, 'Year', np.sum, namespace=__NAMESPACE__, textdict=__TEXTDICT__, uridict=__URIDICT__, provgraph=__PROV__)\n",
      "dd_year = __RETURN__\n",
      "\n"
     ]
    }
   ],
   "source": [
    "%%prov -v\n",
    "dd_year = dt.group_aggregate(dd, 'Year', np.sum)"
   ]
  },
  {
   "cell_type": "code",
   "execution_count": 7,
   "metadata": {
    "collapsed": false,
    "scrolled": false
   },
   "outputs": [
    {
     "name": "stdout",
     "output_type": "stream",
     "text": [
      "@prefix : <http://example.org/> .\n",
      "@prefix dc: <http://purl.org/dc/elements/1.1/> .\n",
      "@prefix prov: <http://www.w3.org/ns/prov#> .\n",
      "@prefix pub: <http://orion.tw.rpi.edu/~fulinyun/ontology/prov-pub/> .\n",
      "@prefix rdf: <http://www.w3.org/1999/02/22-rdf-syntax-ns#> .\n",
      "@prefix rdfs: <http://www.w3.org/2000/01/rdf-schema#> .\n",
      "@prefix xml: <http://www.w3.org/XML/1998/namespace> .\n",
      "@prefix xsd: <http://www.w3.org/2001/XMLSchema#> .\n",
      "\n",
      ":dl.read_csv_2015_11_21T02_31_27Z a pub:Loading ;\n",
      "    pub:code \"csv_content = dl.read_csv('CDODiv2177686828992.txt', delimiter=' ') # load data\" ;\n",
      "    pub:language \"Python\" ;\n",
      "    pub:loaded <http://example.org/%27CDODiv2177686828992.txt%27_2015_11_21T02_31_27Z_a> ;\n",
      "    dc:description \"Read CSV data in file CDODiv2177686828992.txt to variable csv_content\" ;\n",
      "    prov:endedAtTime \"2015-11-21T02:31:27+00:00\"^^xsd:dateTime ;\n",
      "    prov:generated :csv_content_2015_11_21T02_31_27Z ;\n",
      "    prov:startedAtTime \"2015-11-21T02:31:27+00:00\"^^xsd:dateTime ;\n",
      "    prov:used :pandas .\n",
      "\n",
      ":dt.group_aggregate_2015_11_21T02_31_46Z a pub:Transformation ;\n",
      "    pub:code \"dd_year = dt.group_aggregate(dd, 'Year', np.sum)\" ;\n",
      "    pub:language \"Python\" ;\n",
      "    pub:transformed :dd_2015_11_21T02_31_40Z1 ;\n",
      "    dc:description \"Group data in data frame dd by key(s) 'Year' and aggregate by function np.sum to get data in dd_year\" ;\n",
      "    prov:endedAtTime \"2015-11-21T02:31:46+00:00\"^^xsd:dateTime ;\n",
      "    prov:generated :dd_year_2015_11_21T02_31_46Z ;\n",
      "    prov:startedAtTime \"2015-11-21T02:31:46+00:00\"^^xsd:dateTime ;\n",
      "    prov:used :numpy,\n",
      "        :pandas .\n",
      "\n",
      ":operators.assign_2015_11_21T02_31_33Z a prov:Activity ;\n",
      "    pub:code \"dd = csv_content[['YearMonth','HDD','CDD']] # project\" ;\n",
      "    pub:language \"Python\" ;\n",
      "    dc:description \"Assign expression csv_content[['YearMonth','HDD','CDD']] to variable dd\" ;\n",
      "    prov:endedAtTime \"2015-11-21T02:31:33+00:00\"^^xsd:dateTime ;\n",
      "    prov:generated :dd_2015_11_21T02_31_33Z ;\n",
      "    prov:startedAtTime \"2015-11-21T02:31:33+00:00\"^^xsd:dateTime ;\n",
      "    prov:used <http://example.org/csv_content%5B%5B%27YearMonth%27%2C%27HDD%27%2C%27CDD%27%5D%5D_2015_11_21T02_31_33Z_a> .\n",
      "\n",
      ":operators.assign_2015_11_21T02_31_36Z a prov:Activity ;\n",
      "    pub:code \"dd.loc[:,'Year'] = dd['YearMonth']//100\" ;\n",
      "    pub:language \"Python\" ;\n",
      "    dc:description \"Assign expression dd['YearMonth']//100 to variable dd\" ;\n",
      "    prov:endedAtTime \"2015-11-21T02:31:36+00:00\"^^xsd:dateTime ;\n",
      "    prov:generated :dd_2015_11_21T02_31_36Z ;\n",
      "    prov:startedAtTime \"2015-11-21T02:31:36+00:00\"^^xsd:dateTime ;\n",
      "    prov:used <http://example.org/dd%5B%27YearMonth%27%5D%2F%2F100_2015_11_21T02_31_36Z_a> .\n",
      "\n",
      ":operators.delete_2015_11_21T02_31_40Z a pub:Transformation ;\n",
      "    pub:code \"del dd['YearMonth']\" ;\n",
      "    pub:language \"Python\" ;\n",
      "    pub:transformed :dd_2015_11_21T02_31_36Z ;\n",
      "    dc:description \"Delete dd['YearMonth']\" ;\n",
      "    prov:endedAtTime \"2015-11-21T02:31:40+00:00\"^^xsd:dateTime ;\n",
      "    prov:generated :dd_2015_11_21T02_31_40Z1 ;\n",
      "    prov:startedAtTime \"2015-11-21T02:31:40+00:00\"^^xsd:dateTime .\n",
      "\n",
      "<http://example.org/%27CDODiv2177686828992.txt%27_2015_11_21T02_31_27Z_a> a pub:OnDiskData ;\n",
      "    dc:description \"Data stored in file CDODiv2177686828992.txt\" .\n",
      "\n",
      "<http://example.org/csv_content%5B%5B%27YearMonth%27%2C%27HDD%27%2C%27CDD%27%5D%5D_2015_11_21T02_31_33Z_a> a pub:InMemoryData ;\n",
      "    dc:description \"Expression csv_content[['YearMonth','HDD','CDD']]\" .\n",
      "\n",
      ":csv_content_2015_11_21T02_31_27Z a pub:InMemoryData ;\n",
      "    dc:description \"Data held by variable csv_content\" .\n",
      "\n",
      "<http://example.org/dd%5B%27YearMonth%27%5D%2F%2F100_2015_11_21T02_31_36Z_a> a pub:InMemoryData ;\n",
      "    dc:description \"Expression dd['YearMonth']//100\" .\n",
      "\n",
      ":dd_2015_11_21T02_31_33Z a prov:Entity ;\n",
      "    dc:description \"Data or result held by variable dd\" .\n",
      "\n",
      ":dd_year_2015_11_21T02_31_46Z a pub:InMemoryData ;\n",
      "    dc:description \"Data held by variable or expression dd_year\" .\n",
      "\n",
      ":numpy a pub:Library ;\n",
      "    dc:description \"The numpy Python library\" .\n",
      "\n",
      ":dd_2015_11_21T02_31_36Z a pub:InMemoryData,\n",
      "        prov:Entity ;\n",
      "    dc:description \"Data or result held by variable dd\",\n",
      "        \"Variable dd\" .\n",
      "\n",
      ":dd_2015_11_21T02_31_40Z1 a pub:InMemoryData ;\n",
      "    dc:description \"Data frame held by variable or expression dd\",\n",
      "        \"Data held by variable dd\" .\n",
      "\n",
      ":pandas a pub:Library ;\n",
      "    dc:description \"The pandas Python library\" .\n",
      "\n",
      "\n"
     ]
    }
   ],
   "source": [
    "print(__PROV__.serialize(format='n3'))"
   ]
  },
  {
   "cell_type": "code",
   "execution_count": 8,
   "metadata": {
    "collapsed": false
   },
   "outputs": [
    {
     "name": "stdout",
     "output_type": "stream",
     "text": [
      "Actual code executed:\n",
      "__TEXTDICT__ = {}\n",
      "__TEXTDICT__[0] = \"dd_year['CDD'][0:31]\"\n",
      "if \"dd_year['CDD'][0:31]\" in __OBJDICT__:\n",
      "\t__URIDICT__[0] = __OBJDICT__[\"dd_year['CDD'][0:31]\"]\n",
      "else:\n",
      "\t__OBJDICT__[\"dd_year['CDD'][0:31]\"] = __URIDICT__[0] = __NAMESPACE__+'dd_year%5B%27CDD%27%5D%5B0%3A31%5D_2015_11_21T02_31_57Z_a'\n",
      "__TEXTDICT__['fun'] = \"dt.average\"\n",
      "__URIDICT__['fun'] = __NAMESPACE__+'dt.average_2015_11_21T02_31_57Z'\n",
      "__TEXTDICT__['return'] = \"cdd_avg\"\n",
      "__OBJDICT__[\"cdd_avg\"] = __URIDICT__['return'] = __NAMESPACE__+'cdd_avg_2015_11_21T02_31_57Z'\n",
      "__PROV__.add((URIRef(__URIDICT__['fun']), pub.code, Literal(\"cdd_avg = dt.average(dd_year['CDD'][0:31])\")))\n",
      "__RETURN__ = None\n",
      "__RETURN__ = dt.average(dd_year['CDD'][0:31], namespace=__NAMESPACE__, textdict=__TEXTDICT__, uridict=__URIDICT__, provgraph=__PROV__)\n",
      "cdd_avg = __RETURN__\n",
      "\n",
      "Actual code executed:\n",
      "__TEXTDICT__ = {}\n",
      "__TEXTDICT__[0] = \"dd_year['HDD'][0:31]\"\n",
      "if \"dd_year['HDD'][0:31]\" in __OBJDICT__:\n",
      "\t__URIDICT__[0] = __OBJDICT__[\"dd_year['HDD'][0:31]\"]\n",
      "else:\n",
      "\t__OBJDICT__[\"dd_year['HDD'][0:31]\"] = __URIDICT__[0] = __NAMESPACE__+'dd_year%5B%27HDD%27%5D%5B0%3A31%5D_2015_11_21T02_31_57Z_a'\n",
      "__TEXTDICT__['fun'] = \"dt.average\"\n",
      "__URIDICT__['fun'] = __NAMESPACE__+'dt.average_2015_11_21T02_31_57Z1'\n",
      "__TEXTDICT__['return'] = \"hdd_avg\"\n",
      "__OBJDICT__[\"hdd_avg\"] = __URIDICT__['return'] = __NAMESPACE__+'hdd_avg_2015_11_21T02_31_57Z'\n",
      "__PROV__.add((URIRef(__URIDICT__['fun']), pub.code, Literal(\"hdd_avg = dt.average(dd_year['HDD'][0:31])\")))\n",
      "__RETURN__ = None\n",
      "__RETURN__ = dt.average(dd_year['HDD'][0:31], namespace=__NAMESPACE__, textdict=__TEXTDICT__, uridict=__URIDICT__, provgraph=__PROV__)\n",
      "hdd_avg = __RETURN__\n",
      "\n",
      "First rewritten to:\n",
      "dd_year.loc[:, 'HDD']=operators.assign(dd_year['HDD']/hdd_avg*100-100)\n",
      "Actual code executed:\n",
      "__TEXTDICT__ = {}\n",
      "__TEXTDICT__[0] = \"dd_year['HDD']/hdd_avg*100-100\"\n",
      "if \"dd_year['HDD']/hdd_avg*100-100\" in __OBJDICT__:\n",
      "\t__URIDICT__[0] = __OBJDICT__[\"dd_year['HDD']/hdd_avg*100-100\"]\n",
      "else:\n",
      "\t__OBJDICT__[\"dd_year['HDD']/hdd_avg*100-100\"] = __URIDICT__[0] = __NAMESPACE__+'dd_year%5B%27HDD%27%5D%2Fhdd_avg%2A100-100_2015_11_21T02_31_57Z_a'\n",
      "__TEXTDICT__['fun'] = \"operators.assign\"\n",
      "__URIDICT__['fun'] = __NAMESPACE__+'operators.assign_2015_11_21T02_31_57Z'\n",
      "__TEXTDICT__['return'] = \"dd_year\"\n",
      "__OBJDICT__[\"dd_year\"] = __URIDICT__['return'] = __NAMESPACE__+'dd_year_2015_11_21T02_31_57Z'\n",
      "__PROV__.add((URIRef(__URIDICT__['fun']), pub.code, Literal(\"dd_year.loc[:, 'HDD'] = dd_year['HDD']/hdd_avg*100-100\")))\n",
      "__RETURN__ = None\n",
      "__RETURN__ = operators.assign(dd_year['HDD']/hdd_avg*100-100, namespace=__NAMESPACE__, textdict=__TEXTDICT__, uridict=__URIDICT__, provgraph=__PROV__)\n",
      "dd_year.loc[:, 'HDD'] = __RETURN__\n",
      "\n",
      "First rewritten to:\n",
      "dd_year.loc[:, 'CDD']=operators.assign(dd_year['CDD']/cdd_avg*100-100)\n",
      "Actual code executed:\n",
      "__TEXTDICT__ = {}\n",
      "__TEXTDICT__[0] = \"dd_year['CDD']/cdd_avg*100-100\"\n",
      "if \"dd_year['CDD']/cdd_avg*100-100\" in __OBJDICT__:\n",
      "\t__URIDICT__[0] = __OBJDICT__[\"dd_year['CDD']/cdd_avg*100-100\"]\n",
      "else:\n",
      "\t__OBJDICT__[\"dd_year['CDD']/cdd_avg*100-100\"] = __URIDICT__[0] = __NAMESPACE__+'dd_year%5B%27CDD%27%5D%2Fcdd_avg%2A100-100_2015_11_21T02_31_57Z_a'\n",
      "__TEXTDICT__['fun'] = \"operators.assign\"\n",
      "__URIDICT__['fun'] = __NAMESPACE__+'operators.assign_2015_11_21T02_31_57Z1'\n",
      "__TEXTDICT__['return'] = \"dd_year\"\n",
      "__OBJDICT__[\"dd_year\"] = __URIDICT__['return'] = __NAMESPACE__+'dd_year_2015_11_21T02_31_57Z1'\n",
      "__PROV__.add((URIRef(__URIDICT__['fun']), pub.code, Literal(\"dd_year.loc[:, 'CDD'] = dd_year['CDD']/cdd_avg*100-100\")))\n",
      "__RETURN__ = None\n",
      "__RETURN__ = operators.assign(dd_year['CDD']/cdd_avg*100-100, namespace=__NAMESPACE__, textdict=__TEXTDICT__, uridict=__URIDICT__, provgraph=__PROV__)\n",
      "dd_year.loc[:, 'CDD'] = __RETURN__\n",
      "\n"
     ]
    }
   ],
   "source": [
    "%%prov -v\n",
    "cdd_avg = dt.average(dd_year['CDD'][0:31])\n",
    "hdd_avg = dt.average(dd_year['HDD'][0:31])\n",
    "dd_year.loc[:, 'HDD'] = dd_year['HDD']/hdd_avg*100-100\n",
    "dd_year.loc[:, 'CDD'] = dd_year['CDD']/cdd_avg*100-100"
   ]
  },
  {
   "cell_type": "code",
   "execution_count": null,
   "metadata": {
    "collapsed": false
   },
   "outputs": [],
   "source": [
    "%%prov -v\n",
    "ds.write_csv(dd_year, 'dd_year.csv')"
   ]
  },
  {
   "cell_type": "code",
   "execution_count": null,
   "metadata": {
    "collapsed": false
   },
   "outputs": [],
   "source": [
    "%%prov -v\n",
    "fig = dp.plot(dd_year, kind='bar', figsize=(20,10))"
   ]
  },
  {
   "cell_type": "code",
   "execution_count": 1,
   "metadata": {
    "collapsed": false
   },
   "outputs": [
    {
     "name": "stdout",
     "output_type": "stream",
     "text": [
      "Populating the interactive namespace from numpy and matplotlib\n"
     ]
    },
    {
     "ename": "NameError",
     "evalue": "name 'fig' is not defined",
     "output_type": "error",
     "traceback": [
      "\u001b[1;31m---------------------------------------------------------------------------\u001b[0m",
      "\u001b[1;31mNameError\u001b[0m                                 Traceback (most recent call last)",
      "\u001b[1;32m<ipython-input-1-90c4cec81074>\u001b[0m in \u001b[0;36m<module>\u001b[1;34m()\u001b[0m\n\u001b[0;32m      1\u001b[0m \u001b[0mget_ipython\u001b[0m\u001b[1;33m(\u001b[0m\u001b[1;33m)\u001b[0m\u001b[1;33m.\u001b[0m\u001b[0mmagic\u001b[0m\u001b[1;33m(\u001b[0m\u001b[1;34mu'pylab inline'\u001b[0m\u001b[1;33m)\u001b[0m\u001b[1;33m\u001b[0m\u001b[0m\n\u001b[1;32m----> 2\u001b[1;33m \u001b[0mfig\u001b[0m\u001b[1;33m\u001b[0m\u001b[0m\n\u001b[0m",
      "\u001b[1;31mNameError\u001b[0m: name 'fig' is not defined"
     ]
    }
   ],
   "source": [
    "%pylab inline\n",
    "fig"
   ]
  },
  {
   "cell_type": "code",
   "execution_count": null,
   "metadata": {
    "collapsed": true
   },
   "outputs": [],
   "source": [
    "fig.savefig('dd_year.png')"
   ]
  },
  {
   "cell_type": "code",
   "execution_count": 9,
   "metadata": {
    "collapsed": false,
    "scrolled": false
   },
   "outputs": [
    {
     "name": "stdout",
     "output_type": "stream",
     "text": [
      "@prefix : <http://example.org/> .\n",
      "@prefix dc: <http://purl.org/dc/elements/1.1/> .\n",
      "@prefix prov: <http://www.w3.org/ns/prov#> .\n",
      "@prefix pub: <http://orion.tw.rpi.edu/~fulinyun/ontology/prov-pub/> .\n",
      "@prefix rdf: <http://www.w3.org/1999/02/22-rdf-syntax-ns#> .\n",
      "@prefix rdfs: <http://www.w3.org/2000/01/rdf-schema#> .\n",
      "@prefix xml: <http://www.w3.org/XML/1998/namespace> .\n",
      "@prefix xsd: <http://www.w3.org/2001/XMLSchema#> .\n",
      "\n",
      ":dl.read_csv_2015_11_21T02_31_27Z a pub:Loading ;\n",
      "    pub:code \"csv_content = dl.read_csv('CDODiv2177686828992.txt', delimiter=' ') # load data\" ;\n",
      "    pub:language \"Python\" ;\n",
      "    pub:loaded <http://example.org/%27CDODiv2177686828992.txt%27_2015_11_21T02_31_27Z_a> ;\n",
      "    dc:description \"Read CSV data in file CDODiv2177686828992.txt to variable csv_content\" ;\n",
      "    prov:endedAtTime \"2015-11-21T02:31:27+00:00\"^^xsd:dateTime ;\n",
      "    prov:generated :csv_content_2015_11_21T02_31_27Z ;\n",
      "    prov:startedAtTime \"2015-11-21T02:31:27+00:00\"^^xsd:dateTime ;\n",
      "    prov:used :pandas .\n",
      "\n",
      ":dt.average_2015_11_21T02_31_57Z a pub:Transformation ;\n",
      "    pub:code \"cdd_avg = dt.average(dd_year['CDD'][0:31])\" ;\n",
      "    pub:language \"Python\" ;\n",
      "    pub:transformed <http://example.org/dd_year%5B%27CDD%27%5D%5B0%3A31%5D_2015_11_21T02_31_57Z_a> ;\n",
      "    dc:description \"Get the average of data in list dd_year['CDD'][0:31] and save it at cdd_avg\" ;\n",
      "    prov:endedAtTime \"2015-11-21T02:31:57+00:00\"^^xsd:dateTime ;\n",
      "    prov:generated :cdd_avg_2015_11_21T02_31_57Z ;\n",
      "    prov:startedAtTime \"2015-11-21T02:31:57+00:00\"^^xsd:dateTime ;\n",
      "    prov:used :numpy .\n",
      "\n",
      ":dt.average_2015_11_21T02_31_57Z1 a pub:Transformation ;\n",
      "    pub:code \"hdd_avg = dt.average(dd_year['HDD'][0:31])\" ;\n",
      "    pub:language \"Python\" ;\n",
      "    pub:transformed <http://example.org/dd_year%5B%27HDD%27%5D%5B0%3A31%5D_2015_11_21T02_31_57Z_a> ;\n",
      "    dc:description \"Get the average of data in list dd_year['HDD'][0:31] and save it at hdd_avg\" ;\n",
      "    prov:endedAtTime \"2015-11-21T02:31:57+00:00\"^^xsd:dateTime ;\n",
      "    prov:generated :hdd_avg_2015_11_21T02_31_57Z ;\n",
      "    prov:startedAtTime \"2015-11-21T02:31:57+00:00\"^^xsd:dateTime ;\n",
      "    prov:used :numpy .\n",
      "\n",
      ":dt.group_aggregate_2015_11_21T02_31_46Z a pub:Transformation ;\n",
      "    pub:code \"dd_year = dt.group_aggregate(dd, 'Year', np.sum)\" ;\n",
      "    pub:language \"Python\" ;\n",
      "    pub:transformed :dd_2015_11_21T02_31_40Z1 ;\n",
      "    dc:description \"Group data in data frame dd by key(s) 'Year' and aggregate by function np.sum to get data in dd_year\" ;\n",
      "    prov:endedAtTime \"2015-11-21T02:31:46+00:00\"^^xsd:dateTime ;\n",
      "    prov:generated :dd_year_2015_11_21T02_31_46Z ;\n",
      "    prov:startedAtTime \"2015-11-21T02:31:46+00:00\"^^xsd:dateTime ;\n",
      "    prov:used :numpy,\n",
      "        :pandas .\n",
      "\n",
      ":operators.assign_2015_11_21T02_31_33Z a prov:Activity ;\n",
      "    pub:code \"dd = csv_content[['YearMonth','HDD','CDD']] # project\" ;\n",
      "    pub:language \"Python\" ;\n",
      "    dc:description \"Assign expression csv_content[['YearMonth','HDD','CDD']] to variable dd\" ;\n",
      "    prov:endedAtTime \"2015-11-21T02:31:33+00:00\"^^xsd:dateTime ;\n",
      "    prov:generated :dd_2015_11_21T02_31_33Z ;\n",
      "    prov:startedAtTime \"2015-11-21T02:31:33+00:00\"^^xsd:dateTime ;\n",
      "    prov:used <http://example.org/csv_content%5B%5B%27YearMonth%27%2C%27HDD%27%2C%27CDD%27%5D%5D_2015_11_21T02_31_33Z_a> .\n",
      "\n",
      ":operators.assign_2015_11_21T02_31_36Z a prov:Activity ;\n",
      "    pub:code \"dd.loc[:,'Year'] = dd['YearMonth']//100\" ;\n",
      "    pub:language \"Python\" ;\n",
      "    dc:description \"Assign expression dd['YearMonth']//100 to variable dd\" ;\n",
      "    prov:endedAtTime \"2015-11-21T02:31:36+00:00\"^^xsd:dateTime ;\n",
      "    prov:generated :dd_2015_11_21T02_31_36Z ;\n",
      "    prov:startedAtTime \"2015-11-21T02:31:36+00:00\"^^xsd:dateTime ;\n",
      "    prov:used <http://example.org/dd%5B%27YearMonth%27%5D%2F%2F100_2015_11_21T02_31_36Z_a> .\n",
      "\n",
      ":operators.assign_2015_11_21T02_31_57Z a prov:Activity ;\n",
      "    pub:code \"dd_year.loc[:, 'HDD'] = dd_year['HDD']/hdd_avg*100-100\" ;\n",
      "    pub:language \"Python\" ;\n",
      "    dc:description \"Assign expression dd_year['HDD']/hdd_avg*100-100 to variable dd_year\" ;\n",
      "    prov:endedAtTime \"2015-11-21T02:31:57+00:00\"^^xsd:dateTime ;\n",
      "    prov:generated :dd_year_2015_11_21T02_31_57Z ;\n",
      "    prov:startedAtTime \"2015-11-21T02:31:57+00:00\"^^xsd:dateTime ;\n",
      "    prov:used <http://example.org/dd_year%5B%27HDD%27%5D%2Fhdd_avg%2A100-100_2015_11_21T02_31_57Z_a> .\n",
      "\n",
      ":operators.assign_2015_11_21T02_31_57Z1 a prov:Activity ;\n",
      "    pub:code \"dd_year.loc[:, 'CDD'] = dd_year['CDD']/cdd_avg*100-100\" ;\n",
      "    pub:language \"Python\" ;\n",
      "    dc:description \"Assign expression dd_year['CDD']/cdd_avg*100-100 to variable dd_year\" ;\n",
      "    prov:endedAtTime \"2015-11-21T02:31:57+00:00\"^^xsd:dateTime ;\n",
      "    prov:generated :dd_year_2015_11_21T02_31_57Z1 ;\n",
      "    prov:startedAtTime \"2015-11-21T02:31:57+00:00\"^^xsd:dateTime ;\n",
      "    prov:used <http://example.org/dd_year%5B%27CDD%27%5D%2Fcdd_avg%2A100-100_2015_11_21T02_31_57Z_a> .\n",
      "\n",
      ":operators.delete_2015_11_21T02_31_40Z a pub:Transformation ;\n",
      "    pub:code \"del dd['YearMonth']\" ;\n",
      "    pub:language \"Python\" ;\n",
      "    pub:transformed :dd_2015_11_21T02_31_36Z ;\n",
      "    dc:description \"Delete dd['YearMonth']\" ;\n",
      "    prov:endedAtTime \"2015-11-21T02:31:40+00:00\"^^xsd:dateTime ;\n",
      "    prov:generated :dd_2015_11_21T02_31_40Z1 ;\n",
      "    prov:startedAtTime \"2015-11-21T02:31:40+00:00\"^^xsd:dateTime .\n",
      "\n",
      "<http://example.org/%27CDODiv2177686828992.txt%27_2015_11_21T02_31_27Z_a> a pub:OnDiskData ;\n",
      "    dc:description \"Data stored in file CDODiv2177686828992.txt\" .\n",
      "\n",
      ":cdd_avg_2015_11_21T02_31_57Z a pub:InMemoryData ;\n",
      "    dc:description \"Data held by variable or expression cdd_avg\" .\n",
      "\n",
      "<http://example.org/csv_content%5B%5B%27YearMonth%27%2C%27HDD%27%2C%27CDD%27%5D%5D_2015_11_21T02_31_33Z_a> a pub:InMemoryData ;\n",
      "    dc:description \"Expression csv_content[['YearMonth','HDD','CDD']]\" .\n",
      "\n",
      ":csv_content_2015_11_21T02_31_27Z a pub:InMemoryData ;\n",
      "    dc:description \"Data held by variable csv_content\" .\n",
      "\n",
      "<http://example.org/dd%5B%27YearMonth%27%5D%2F%2F100_2015_11_21T02_31_36Z_a> a pub:InMemoryData ;\n",
      "    dc:description \"Expression dd['YearMonth']//100\" .\n",
      "\n",
      ":dd_2015_11_21T02_31_33Z a prov:Entity ;\n",
      "    dc:description \"Data or result held by variable dd\" .\n",
      "\n",
      "<http://example.org/dd_year%5B%27CDD%27%5D%2Fcdd_avg%2A100-100_2015_11_21T02_31_57Z_a> a pub:InMemoryData ;\n",
      "    dc:description \"Expression dd_year['CDD']/cdd_avg*100-100\" .\n",
      "\n",
      "<http://example.org/dd_year%5B%27CDD%27%5D%5B0%3A31%5D_2015_11_21T02_31_57Z_a> a pub:InMemoryData ;\n",
      "    dc:description \"Data held by variable or expression dd_year['CDD'][0:31]\" .\n",
      "\n",
      "<http://example.org/dd_year%5B%27HDD%27%5D%2Fhdd_avg%2A100-100_2015_11_21T02_31_57Z_a> a pub:InMemoryData ;\n",
      "    dc:description \"Expression dd_year['HDD']/hdd_avg*100-100\" .\n",
      "\n",
      "<http://example.org/dd_year%5B%27HDD%27%5D%5B0%3A31%5D_2015_11_21T02_31_57Z_a> a pub:InMemoryData ;\n",
      "    dc:description \"Data held by variable or expression dd_year['HDD'][0:31]\" .\n",
      "\n",
      ":dd_year_2015_11_21T02_31_46Z a pub:InMemoryData ;\n",
      "    dc:description \"Data held by variable or expression dd_year\" .\n",
      "\n",
      ":dd_year_2015_11_21T02_31_57Z a prov:Entity ;\n",
      "    dc:description \"Data or result held by variable dd_year\" .\n",
      "\n",
      ":dd_year_2015_11_21T02_31_57Z1 a prov:Entity ;\n",
      "    dc:description \"Data or result held by variable dd_year\" .\n",
      "\n",
      ":hdd_avg_2015_11_21T02_31_57Z a pub:InMemoryData ;\n",
      "    dc:description \"Data held by variable or expression hdd_avg\" .\n",
      "\n",
      ":dd_2015_11_21T02_31_36Z a pub:InMemoryData,\n",
      "        prov:Entity ;\n",
      "    dc:description \"Data or result held by variable dd\",\n",
      "        \"Variable dd\" .\n",
      "\n",
      ":dd_2015_11_21T02_31_40Z1 a pub:InMemoryData ;\n",
      "    dc:description \"Data frame held by variable or expression dd\",\n",
      "        \"Data held by variable dd\" .\n",
      "\n",
      ":pandas a pub:Library ;\n",
      "    dc:description \"The pandas Python library\" .\n",
      "\n",
      ":numpy a pub:Library ;\n",
      "    dc:description \"The numpy Python library\" .\n",
      "\n",
      "\n"
     ]
    }
   ],
   "source": [
    "print(__PROV__.serialize(format='n3'))"
   ]
  },
  {
   "cell_type": "code",
   "execution_count": null,
   "metadata": {
    "collapsed": true
   },
   "outputs": [],
   "source": []
  }
 ],
 "metadata": {
  "kernelspec": {
   "display_name": "Python 2",
   "language": "python",
   "name": "python2"
  },
  "language_info": {
   "codemirror_mode": {
    "name": "ipython",
    "version": 2
   },
   "file_extension": ".py",
   "mimetype": "text/x-python",
   "name": "python",
   "nbconvert_exporter": "python",
   "pygments_lexer": "ipython2",
   "version": "2.7.10"
  }
 },
 "nbformat": 4,
 "nbformat_minor": 0
}
